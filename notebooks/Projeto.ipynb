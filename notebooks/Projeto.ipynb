{
 "cells": [
  {
   "cell_type": "markdown",
   "metadata": {},
   "source": [
    "# Parte técnica - Projeto Redes Sociais\n",
    "\n",
    "## Feito por: Gabriel Kabbani, Luis Filipe Loureiro e Murilo Menezes"
   ]
  },
  {
   "cell_type": "code",
   "execution_count": 1,
   "metadata": {},
   "outputs": [
    {
     "data": {
      "text/html": [
       "\n",
       "    <script src=\"/files/netpixi.min.js\"></script>\n"
      ],
      "text/plain": [
       "<IPython.core.display.HTML object>"
      ]
     },
     "metadata": {},
     "output_type": "display_data"
    }
   ],
   "source": [
    "from graph_tool import centrality, clustering, Graph\n",
    "import pandas as pd\n",
    "from collections import Counter\n",
    "import seaborn as sns\n",
    "sns.set()\n",
    "import netpixi\n",
    "from netpixi.data.gt import *\n",
    "import csv"
   ]
  },
  {
   "cell_type": "code",
   "execution_count": 77,
   "metadata": {},
   "outputs": [],
   "source": [
    "\n",
    "\n",
    "lista_rows=[]\n",
    "anos=['2016','2017','2018','2019','2020']\n",
    "\n",
    "df = pd.read_csv('camara_municipal_sp_sessoes_12_20.csv')\n",
    "\n",
    "indexes_to_drop = []\n",
    "\n",
    "\n",
    "for i, r in df.iterrows():\n",
    "    if r['data'][6:10] not in anos or 'PL' not in r['materia']:\n",
    "        indexes_to_drop.append(i)\n",
    "\n",
    "clean_df = df.drop(df.index[indexes_to_drop]).dropna()\n",
    "\n"
   ]
  },
  {
   "cell_type": "code",
   "execution_count": null,
   "metadata": {},
   "outputs": [],
   "source": []
  },
  {
   "cell_type": "code",
   "execution_count": 99,
   "metadata": {},
   "outputs": [],
   "source": [
    "vereadores = []\n",
    "projetos = []\n",
    "\n",
    "for i, r in clean_df.iterrows():\n",
    "    if r['vereador'] not in vereadores:\n",
    "        vereadores.append(r['vereador'])\n",
    "    if r['materia'] not in projetos:\n",
    "        projetos.append(r['materia'])\n"
   ]
  },
  {
   "cell_type": "code",
   "execution_count": 101,
   "metadata": {},
   "outputs": [],
   "source": [
    "g = Graph(directed=True)"
   ]
  },
  {
   "cell_type": "code",
   "execution_count": 103,
   "metadata": {},
   "outputs": [],
   "source": [
    "for _ in vereadores:\n",
    "    g.add_vertex()\n",
    "for _ in projetos:\n",
    "    g.add_vertex()"
   ]
  },
  {
   "cell_type": "code",
   "execution_count": null,
   "metadata": {},
   "outputs": [],
   "source": []
  },
  {
   "cell_type": "code",
   "execution_count": 104,
   "metadata": {},
   "outputs": [
    {
     "data": {
      "text/html": [
       "\n",
       "        <div id=\"Ko6kMDDcfussNg4XtvRjZ2\"></div>\n",
       "        <script>netpixi.render('Ko6kMDDcfussNg4XtvRjZ2', 'exemplo.net.gz', 1.7777777777777777, true, false, false);</script>\n",
       "    "
      ],
      "text/plain": [
       "<IPython.core.display.HTML object>"
      ]
     },
     "metadata": {},
     "output_type": "display_data"
    }
   ],
   "source": [
    "save_gt(g, 'exemplo.net.gz')\n",
    "r = netpixi.render('exemplo.net.gz')"
   ]
  },
  {
   "cell_type": "code",
   "execution_count": 106,
   "metadata": {},
   "outputs": [
    {
     "data": {
      "text/html": [
       "\n",
       "        <div id=\"3pJnaMwWEpZkY67Pb2Kb67\"></div>\n",
       "        <script>netpixi.call('3pJnaMwWEpZkY67Pb2Kb67', 'Ko6kMDDcfussNg4XtvRjZ2', 'changeGraph', 'eyJ0eXBlIjogInNldHRpbmdzIiwgInByb3BzIjogeyJncmFwaCI6IHsiY29sb3IiOiAxNjc3NzIxNX19fQo=');</script>\n",
       "    "
      ],
      "text/plain": [
       "<IPython.core.display.HTML object>"
      ]
     },
     "metadata": {},
     "output_type": "display_data"
    },
    {
     "data": {
      "text/html": [
       "\n",
       "        <div id=\"8wcsRYxjwXWhm3ZL255XEK\"></div>\n",
       "        <script>netpixi.call('8wcsRYxjwXWhm3ZL255XEK', 'Ko6kMDDcfussNg4XtvRjZ2', 'changeGraph', 'eyJ0eXBlIjogInNldHRpbmdzIiwgInByb3BzIjogeyJ2ZXJ0ZXgiOiB7ImNvbG9yIjogMCwgInNpemUiOiAxMH19fQo=');</script>\n",
       "    "
      ],
      "text/plain": [
       "<IPython.core.display.HTML object>"
      ]
     },
     "metadata": {},
     "output_type": "display_data"
    },
    {
     "data": {
      "text/html": [
       "\n",
       "        <div id=\"TgStFhBiP9RErpcc5ibQsJ\"></div>\n",
       "        <script>netpixi.call('TgStFhBiP9RErpcc5ibQsJ', 'Ko6kMDDcfussNg4XtvRjZ2', 'changeGraph', 'eyJpZCI6IDAsICJ0eXBlIjogInZlcnRleCIsICJwcm9wcyI6IHsiY29sb3IiOiAxNjcxMTY4MCwgInNpemUiOiAyMH19Cg==');</script>\n",
       "    "
      ],
      "text/plain": [
       "<IPython.core.display.HTML object>"
      ]
     },
     "metadata": {},
     "output_type": "display_data"
    },
    {
     "data": {
      "text/html": [
       "\n",
       "        <div id=\"GufX6VSnd5mSe3ZGexEVQK\"></div>\n",
       "        <script>netpixi.call('GufX6VSnd5mSe3ZGexEVQK', 'Ko6kMDDcfussNg4XtvRjZ2', 'changeGraph', 'eyJpZCI6IDEsICJ0eXBlIjogInZlcnRleCIsICJwcm9wcyI6IHsiY29sb3IiOiAxNjcxMTY4MCwgInNpemUiOiAyMH19Cg==');</script>\n",
       "    "
      ],
      "text/plain": [
       "<IPython.core.display.HTML object>"
      ]
     },
     "metadata": {},
     "output_type": "display_data"
    },
    {
     "data": {
      "text/html": [
       "\n",
       "        <div id=\"ftdTjSzzU9K4KzrChG8qb6\"></div>\n",
       "        <script>netpixi.call('ftdTjSzzU9K4KzrChG8qb6', 'Ko6kMDDcfussNg4XtvRjZ2', 'changeGraph', 'eyJ0eXBlIjogInNldHRpbmdzIiwgInByb3BzIjogeyJlZGdlIjogeyJjb2xvciI6IDAsICJ3aWR0aCI6IDEsICJjdXJ2ZTEiOiAwLCAiY3VydmUyIjogMH19fQo=');</script>\n",
       "    "
      ],
      "text/plain": [
       "<IPython.core.display.HTML object>"
      ]
     },
     "metadata": {},
     "output_type": "display_data"
    },
    {
     "data": {
      "text/html": [
       "\n",
       "        <div id=\"fg44ZPFDjsAUhjDpG4Uvbb\"></div>\n",
       "        <script>netpixi.call('fg44ZPFDjsAUhjDpG4Uvbb', 'Ko6kMDDcfussNg4XtvRjZ2', 'changeGraph', 'eyJzb3VyY2UiOiAwLCAidGFyZ2V0IjogMSwgInR5cGUiOiAiZWRnZSIsICJwcm9wcyI6IHsiY29sb3IiOiAyNTUsICJ3aWR0aCI6IDJ9fQo=');</script>\n",
       "    "
      ],
      "text/plain": [
       "<IPython.core.display.HTML object>"
      ]
     },
     "metadata": {},
     "output_type": "display_data"
    }
   ],
   "source": []
  },
  {
   "cell_type": "code",
   "execution_count": 107,
   "metadata": {},
   "outputs": [
    {
     "data": {
      "text/html": [
       "\n",
       "        <div id=\"FLD6dCVXaNEezVeRsvDjoz\"></div>\n",
       "        <script>netpixi.render('FLD6dCVXaNEezVeRsvDjoz', 'exemplo.net.gz', 1.7777777777777777, true, false, false);</script>\n",
       "    "
      ],
      "text/plain": [
       "<IPython.core.display.HTML object>"
      ]
     },
     "metadata": {},
     "output_type": "display_data"
    },
    {
     "data": {
      "text/plain": [
       "<netpixi.Render at 0x7f08c32caed0>"
      ]
     },
     "execution_count": 107,
     "metadata": {},
     "output_type": "execute_result"
    }
   ],
   "source": [
    "#utilizando o algoritmo SFDP, que utiliza force-directed graph drawing para aproximar os vértices conectados\n",
    "\n",
    "g = load_gt('exemplo.net.gz')\n",
    "m = draw_gt.sfdp_layout(g)\n",
    "move_gt(g, m)\n",
    "save_gt(g, 'exemplo.net.gz')\n",
    "netpixi.render('exemplo.net.gz')"
   ]
  },
  {
   "cell_type": "code",
   "execution_count": null,
   "metadata": {},
   "outputs": [],
   "source": []
  }
 ],
 "metadata": {
  "interpreter": {
   "hash": "31f2aee4e71d21fbe5cf8b01ff0e069b9275f58929596ceb00d14d90e3e16cd6"
  },
  "kernelspec": {
   "display_name": "Python 3 (ipykernel)",
   "language": "python",
   "name": "python3"
  },
  "language_info": {
   "codemirror_mode": {
    "name": "ipython",
    "version": 3
   },
   "file_extension": ".py",
   "mimetype": "text/x-python",
   "name": "python",
   "nbconvert_exporter": "python",
   "pygments_lexer": "ipython3",
   "version": "3.7.11"
  }
 },
 "nbformat": 4,
 "nbformat_minor": 2
}
