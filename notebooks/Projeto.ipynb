{
 "cells": [
  {
   "cell_type": "markdown",
   "metadata": {},
   "source": [
    "# Parte técnica - Projeto Redes Sociais\n",
    "\n",
    "## Feito por: Gabriel Kabbani, Luis Filipe Loureiro e Murilo Menezes"
   ]
  },
  {
   "cell_type": "code",
   "execution_count": 1,
   "metadata": {},
   "outputs": [
    {
     "data": {
      "text/html": [
       "\n",
       "    <script src=\"/files/netpixi.min.js\"></script>\n"
      ],
      "text/plain": [
       "<IPython.core.display.HTML object>"
      ]
     },
     "metadata": {},
     "output_type": "display_data"
    }
   ],
   "source": [
    "from graph_tool import centrality, clustering, Graph\n",
    "import pandas as pd\n",
    "from collections import Counter\n",
    "import seaborn as sns\n",
    "sns.set()\n",
    "import netpixi\n",
    "from netpixi.data.gt import *\n",
    "import csv"
   ]
  },
  {
   "cell_type": "code",
   "execution_count": 4,
   "metadata": {},
   "outputs": [],
   "source": [
    "#abrindo o arquivo e salvando seus conteúdos em uma lista, a fim de não precisar mantê-lo aberto.\n",
    "\n",
    "lista_rows=[]\n",
    "anos=['2016','2017','2018','2019','2020']\n",
    "\n",
    "df = pd.read_csv('camara_municipal_sp_sessoes_12_20.csv')\n",
    "\n",
    "\n",
    "\n",
    "for index, row in df.iterrows():\n",
    "    if row['data'][6:10] in anos and 'PL' in row['materia']:\n",
    "        lista_rows.append(row)\n",
    "        \n",
    "db = pd.DataFrame(lista_rows)\n",
    "\n"
   ]
  },
  {
   "cell_type": "code",
   "execution_count": 13,
   "metadata": {},
   "outputs": [],
   "source": [
    "g = Graph(directed=True)"
   ]
  },
  {
   "cell_type": "code",
   "execution_count": 5,
   "metadata": {},
   "outputs": [
    {
     "name": "stdout",
     "output_type": "stream",
     "text": [
      "             vereador partido  id_parlamentar voto  id_votacao tipo_votacao  \\\n",
      "34995             NaN     NaN             NaN  NaN        1547    Simbólica   \n",
      "34996             NaN     NaN             NaN  NaN        1548    Simbólica   \n",
      "34997             NaN     NaN             NaN  NaN        1549    Simbólica   \n",
      "35049       ABOU ANNI      PV          1297.0  Não        2105      Nominal   \n",
      "35050  ADILSON AMADEU     PTB          1296.0  Sim        2105      Nominal   \n",
      "\n",
      "                                           materia  \\\n",
      "34995  PL 563/2014, do Executivo - FERNANDO HADDAD   \n",
      "34996  PL 541/2015, do Executivo - FERNANDO HADDAD   \n",
      "34997  PL 605/2015, do Executivo - FERNANDO HADDAD   \n",
      "35049           Sub 1 ao PL 272 /2015 DO EXECUTIVO   \n",
      "35050           Sub 1 ao PL 272 /2015 DO EXECUTIVO   \n",
      "\n",
      "                                                  ementa resultado  presentes  \\\n",
      "34995  ALTERA O ARTIGO 2º DA LEI Nº 14.401, DE 21 DE ...  Aprovado        NaN   \n",
      "34996  DISPÕE SOBRE A CONSIDERAÇÃO DOS PERÍODOS DE AF...  Aprovado        NaN   \n",
      "34997  ALTERA A LEI Nº 13.478, DE 30 DE DEZEMBRO DE 2...  Aprovado        NaN   \n",
      "35049   DISCIPLINA O PARCELAMENTO, O USO E A OCUPAÇÃO...  Aprovado       55.0   \n",
      "35050   DISCIPLINA O PARCELAMENTO, O USO E A OCUPAÇÃO...  Aprovado       55.0   \n",
      "\n",
      "       votacao_sim  votacao_nao  votacao_abstencao  votacao_branco  \\\n",
      "34995          NaN          NaN                NaN             NaN   \n",
      "34996          NaN          NaN                NaN             NaN   \n",
      "34997          NaN          NaN                NaN             NaN   \n",
      "35049         45.0          8.0                0.0             0.0   \n",
      "35050         45.0          8.0                0.0             0.0   \n",
      "\n",
      "                                                   notas  \\\n",
      "34995  APROVADO EM SEGUNDA DISCUSSÃO E VOTAÇÃO NA FOR...   \n",
      "34996  APROVADO EM SEGUNDA DISCUSSÃO E VOTAÇÃO NA FOR...   \n",
      "34997  APROVADO EM SEGUNDA DISCUSSÃO E VOTAÇÃO NA FOR...   \n",
      "35049  APROVADO EM SEGUNDA DISCUSSÃO E VOTAÇÃO NA FOR...   \n",
      "35050  APROVADO EM SEGUNDA DISCUSSÃO E VOTAÇÃO NA FOR...   \n",
      "\n",
      "                           sessao        data  \n",
      "34995  305ª Sessão Extraordinária  17/02/2016  \n",
      "34996  305ª Sessão Extraordinária  17/02/2016  \n",
      "34997  305ª Sessão Extraordinária  17/02/2016  \n",
      "35049  308ª Sessão Extraordinária  25/02/2016  \n",
      "35050  308ª Sessão Extraordinária  25/02/2016  \n"
     ]
    }
   ],
   "source": [
    "print(db.head())"
   ]
  },
  {
   "cell_type": "code",
   "execution_count": null,
   "metadata": {},
   "outputs": [],
   "source": []
  },
  {
   "cell_type": "code",
   "execution_count": null,
   "metadata": {},
   "outputs": [],
   "source": [
    "save_gt(g, 'exemplo.net.gz')\n",
    "r = netpixi.render('exemplo.net.gz')"
   ]
  },
  {
   "cell_type": "code",
   "execution_count": null,
   "metadata": {},
   "outputs": [],
   "source": [
    "r.graph(color=0xffffff)\n",
    "r.vertex_default(color=0x000000, size=10)\n",
    "r.vertex(0, color=0xff0000, size=20)\n",
    "r.vertex(1, color=0xff0000, size=20)\n",
    "r.edge_default(color=0x000000, width=1, curve1=0, curve2=0)\n",
    "r.edge(0, 1, color=0x0000ff, width=2)"
   ]
  },
  {
   "cell_type": "code",
   "execution_count": null,
   "metadata": {},
   "outputs": [],
   "source": [
    "#utilizando o algoritmo SFDP, que utiliza force-directed graph drawing para aproximar os vértices conectados\n",
    "\n",
    "g = load_gt('exemplo.net.gz')\n",
    "m = draw_gt.sfdp_layout(g)\n",
    "move_gt(g, m)\n",
    "save_gt(g, 'exemplo.net.gz')\n",
    "netpixi.render('exemplo.net.gz')"
   ]
  }
 ],
 "metadata": {
  "interpreter": {
   "hash": "31f2aee4e71d21fbe5cf8b01ff0e069b9275f58929596ceb00d14d90e3e16cd6"
  },
  "kernelspec": {
   "display_name": "Python 3 (ipykernel)",
   "language": "python",
   "name": "python3"
  },
  "language_info": {
   "codemirror_mode": {
    "name": "ipython",
    "version": 3
   },
   "file_extension": ".py",
   "mimetype": "text/x-python",
   "name": "python",
   "nbconvert_exporter": "python",
   "pygments_lexer": "ipython3",
   "version": "3.7.11"
  }
 },
 "nbformat": 4,
 "nbformat_minor": 2
}
